{
 "cells": [
  {
   "cell_type": "markdown",
   "metadata": {},
   "source": [
    "### Module: array_operations.py"
   ]
  },
  {
   "cell_type": "code",
   "execution_count": null,
   "metadata": {},
   "outputs": [],
   "source": [
    "import sys\n",
    "import logging\n",
    "import numpy as np\n",
    "from scipy import ndimage"
   ]
  },
  {
   "cell_type": "code",
   "execution_count": null,
   "metadata": {},
   "outputs": [],
   "source": [
    "def bin_array(x, n, axis=0):\n",
    "    \"\"\"\n",
    "    Bin the elements in one direction of a 2D or 3D array.\n",
    "    \n",
    "    :param array x: Array to be binned\n",
    "    :param int n: Binning factor, i.e, number of elements to be added together\n",
    "                  must be a divisor of the number of elements on the axis\n",
    "    :param int axis: Axis along which the binning operation takes place\n",
    "    :return array array: Binned Array\n",
    "    \"\"\"\n",
    "\n",
    "    # Code flow:\n",
    "    # =====================\n",
    "    # > Switch axes to work along axis 0 as default\n",
    "    # > Perform the binning operation \n",
    "    x = np.swapaxes(x, 0, axis)\n",
    "    if x.shape[0]%n != 0:\n",
    "        logging.error(f\"// n is not a divisor of the number of elements of the axis\")\n",
    "        sys.exit()\n",
    "    dim = int(x.shape[0] / n)\n",
    "    if len(x.shape) == 2:\n",
    "        x = x[:dim*n, :]\n",
    "        array = np.zeros([dim, x.shape[1]])\n",
    "        for i in range(dim):\n",
    "            array[i, :] = x[i*n:(i+1)*n, :].sum(axis = 0)\n",
    "    elif len(x.shape) == 3:\n",
    "        x = x[:dim*n, :, :]\n",
    "        array = np.zeros([dim, x.shape[1], x.shape[2]])\n",
    "        for i in range(n):\n",
    "            array += x[i::n, :, :]\n",
    "    array = np.swapaxes(array, 0, axis)\n",
    "    return array\n"
   ]
  }
 ],
 "metadata": {
  "kernelspec": {
   "display_name": "Python 3",
   "language": "python",
   "name": "python3"
  },
  "language_info": {
   "codemirror_mode": {
    "name": "ipython",
    "version": 3
   },
   "file_extension": ".py",
   "mimetype": "text/x-python",
   "name": "python",
   "nbconvert_exporter": "python",
   "pygments_lexer": "ipython3",
   "version": "3.7.6"
  }
 },
 "nbformat": 4,
 "nbformat_minor": 4
}
