{
 "cells": [
  {
   "cell_type": "markdown",
   "metadata": {},
   "source": [
    "### Module: constants.py"
   ]
  },
  {
   "cell_type": "code",
   "execution_count": null,
   "metadata": {},
   "outputs": [],
   "source": [
    "import math\n",
    "import numpy as np\n",
    "from astropy import units as unit\n",
    "from astropy import constants as const"
   ]
  },
  {
   "cell_type": "code",
   "execution_count": null,
   "metadata": {},
   "outputs": [],
   "source": [
    "# Halpha wavelength in rest frame [cm]\n",
    "Halpha0 = 6562.78e-8 * unit.cm\n",
    "# NII wavelength in rest frame [cm]\n",
    "NII0 = 6584.00e-8 * unit.cm\n",
    "# Effective Halpha recombination rate\n",
    "eff_recomb_rate_halpha = 1.16e-16 / unit.s\n",
    "# Hydrogen cosmological fraction\n",
    "Xh = 0.76\n",
    "# Solar mass\n",
    "M_sun = const.M_sun.to(\"g\")\n",
    "# Myear [s]\n",
    "myr = 1.0E6 * 365.0 * 24.0 * 3600.0 * unit.s\n",
    "# Solar O/H ratio\n",
    "oh_solar = 8.66\n",
    "# Solar metal fraction\n",
    "z_solar = 0.0126\n",
    "# Obscuration coefficient computed with RV = 3.1 (MW) - See Boselli (2012)\n",
    "kMW_Ha = 2.517\n",
    "# Hydrogen recombination rate\n",
    "alphaH = 2.59e-13 * np.power(unit.cm, 3) / unit.s\n",
    "# Physical constants defined in CGS system\n",
    "h = const.h.to(\"erg s\")\n",
    "c = const.c.to(\"cm/s\")\n",
    "m_p = const.m_p.to(\"g\")\n",
    "k_B = const.k_B.to(\"erg/K\")\n",
    "kpc = const.kpc.to(\"cm\")\n",
    "G = const.G.to(\"cm3/(g s2)\")\n",
    "# Factor to go from FWHM to std dev\n",
    "fwhm_sigma = (2.0 * math.sqrt(2.0 * math.log(2.0)))\n",
    "## --------- ##"
   ]
  },
  {
   "cell_type": "code",
   "execution_count": null,
   "metadata": {},
   "outputs": [],
   "source": [
    "# FOR FUTURE REFERENCES / IMPLEMENTATIONS \n",
    "# Obscuration coefficient for important emission lines\n",
    "# Computed with RV = 3.1 (MW)\n",
    "# See Boselli 2012\n",
    "kMW_OII = 4.751\n",
    "kMW_Hd = 4.418\n",
    "kMW_Hg = 4.154\n",
    "kMW_OIII_4363 = 4.128\n",
    "kMW_Hb = 3.588\n",
    "kMW_OIII_4959 = 3.497\n",
    "kMW_OIII_5007 = 3.452\n",
    "kMW_OI = 2.642\n",
    "kMW_NII_6548 = 2.524\n",
    "kMW_Ha = 2.517\n",
    "kMW_NII_6584 = 2.507\n",
    "kMW_SII_6716 = 2.444\n",
    "kMW_SII_6731 = 2.437\n",
    "kMW_Pb = 0.832\n",
    "kMW_Pa = 0.451"
   ]
  }
 ],
 "metadata": {
  "kernelspec": {
   "display_name": "Python 3",
   "language": "python",
   "name": "python3"
  },
  "language_info": {
   "codemirror_mode": {
    "name": "ipython",
    "version": 3
   },
   "file_extension": ".py",
   "mimetype": "text/x-python",
   "name": "python",
   "nbconvert_exporter": "python",
   "pygments_lexer": "ipython3",
   "version": "3.7.6"
  }
 },
 "nbformat": 4,
 "nbformat_minor": 4
}
