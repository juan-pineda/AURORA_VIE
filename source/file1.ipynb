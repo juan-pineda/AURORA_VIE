{
 "cells": [
  {
   "cell_type": "markdown",
   "metadata": {},
   "source": [
    "### Module: AURORA.PY"
   ]
  },
  {
   "cell_type": "code",
   "execution_count": null,
   "metadata": {},
   "outputs": [],
   "source": [
    "\"\"\"\n",
    "Main aurora module\n",
    "=====================\n",
    ".......................................................................\n",
    "The functions in this module allow the post-processing of\n",
    "hydrodynamical simulations to create mock H-alpha observations using\n",
    "the whole physical and geometrical information of the particles in the\n",
    "simulation.\n",
    "\n",
    "Examples::\n",
    "    ------ to be added ------\n",
    "\"\"\""
   ]
  },
  {
   "cell_type": "code",
   "execution_count": null,
   "metadata": {},
   "outputs": [],
   "source": [
    "import gc\n",
    "import re\n",
    "import os\n",
    "import sys\n",
    "import pdb\n",
    "import math\n",
    "import time\n",
    "import logging\n",
    "import pynbody\n",
    "import warnings\n",
    "import numpy as np\n",
    "import configparser\n",
    "import scipy.fftpack\n",
    "from scipy import ndimage\n",
    "from pympler import asizeof\n",
    "from astropy.io import fits\n",
    "import multiprocessing as mp\n",
    "from scipy.stats import norm\n",
    "import matplotlib.pyplot as plt\n",
    "from astropy import units as unit\n",
    "from sklearn.neighbors import KDTree\n",
    "from astropy import constants as const\n",
    "from astropy.cosmology import Planck13 as cosmo"
   ]
  },
  {
   "cell_type": "code",
   "execution_count": null,
   "metadata": {},
   "outputs": [],
   "source": [
    "from . import presets\n",
    "from . import constants as ct\n",
    "from . import set_output as so\n",
    "from . import datacube as dc\n",
    "from . import snapshot_tools as snap\n",
    "from . import spectrum_tools as spec\n",
    "from . import configuration as config\n",
    "from . import array_operations as arr\n",
    "from . import gasProps_sBird as bird"
   ]
  },
  {
   "cell_type": "code",
   "execution_count": null,
   "metadata": {},
   "outputs": [],
   "source": [
    "warnings.filterwarnings(\"ignore\")"
   ]
  },
  {
   "cell_type": "code",
   "execution_count": null,
   "metadata": {},
   "outputs": [],
   "source": [
    "def __setup_logging():\n",
    "    logging.basicConfig(\n",
    "        format=\"%(levelname)s:%(message)s\", \n",
    "        filename=\"aurora.log\", \n",
    "        level=logging.INFO)"
   ]
  },
  {
   "cell_type": "code",
   "execution_count": null,
   "metadata": {},
   "outputs": [],
   "source": [
    "def __aurora_version():\n",
    "    \"\"\"\n",
    "    Print the version of Aurora being used for future references.\n",
    "    \"\"\"\n",
    "    print(\"   ___               \")\n",
    "    print(\"  / _ |__ _________  _______ _   \")\n",
    "    print(\" / __ / // / __/ _ \\/ __/ _ `/   \")\n",
    "    print(\"/_/ |_\\___/_/  \\___/_/  \\___/    \")\n",
    "    print(\"////// Version 2.1\")"
   ]
  },
  {
   "cell_type": "code",
   "execution_count": null,
   "metadata": {},
   "outputs": [],
   "source": [
    "def spectrom_mock(ConfigFile):\n",
    "    \"\"\"\n",
    "    Map the estimated H-alpha flux from the simulation to a mock data\n",
    "    cube and stores the output in fits format.\n",
    "\n",
    "    Parameters\n",
    "    ----------\n",
    "    ConfigFile : location of the configuration file containing the input\n",
    "        parameters needed.\n",
    "    \"\"\"\n",
    "    __setup_logging()\n",
    "    __aurora_version()\n",
    "\n",
    "    # Code flow:\n",
    "    # =====================\n",
    "    # > Load the input parameters from ConfigFile\n",
    "    # > Read the snapshot\n",
    "    # > Set geometrical orientation and retain only the desired gas particles\n",
    "    geom, run, spectrom = config.get_allinput(ConfigFile)\n",
    "    data = snap.read_snap(run.input_file)\n",
    "    data_gas = snap.set_snapshots_ready(geom, run, data)[0]\n",
    "    del data\n",
    "    gc.collect()\n",
    "    \n",
    "    # > Retain only those gas particles wich lie inside the field of view\n",
    "    lim = spectrom.fieldofview.to(\"kpc\").value/2.\n",
    "    data_gas = snap.filter_array(data_gas,[\"x\",\"y\"],2*[-lim],2*[lim],2*[\"kpc\"])\n",
    "    \n",
    "        # Code flow:\n",
    "    # =====================\n",
    "    # > Determine the smoothing lengths\n",
    "    # > Increase target resolution to minimize geometrical concerns\n",
    "    # > Compute the fluxes separately for each AMR scale\n",
    "    # > Smooth the fluxes from each scale and collapse them\n",
    "    snap.set_hsml_limits(run, data_gas)\n",
    "    spectrom.oversample()\n",
    "    cube = spec.__project_all_chunks(geom, run, spectrom, data_gas)\n",
    "    spec.__cube_convolution(geom, run, spectrom, cube)\n",
    "    cube = np.sum(cube, axis=3)\n",
    "\n",
    "    # Code flow:\n",
    "    # =====================\n",
    "    # > Bin to recover the target spatial sampling\n",
    "    # > Inject noise\n",
    "    # > Store the final datacube\n",
    "\n",
    "    cube = arr.bin_array(cube, spectrom.oversampling, axis=1)\n",
    "    cube = arr.bin_array(cube, spectrom.oversampling, axis=2)\n",
    "    spectrom.undersample()\n",
    "    \n",
    "    if(spectrom.sigma_cont > 0.):\n",
    "        logging.info(f\"// Noise injection\")\n",
    "        cube_noise = cube + np.random.normal(0.0, spectrom.sigma_cont, cube.shape)\n",
    "\n",
    "    logging.info(f\"Created file {run.output_name}\")\n",
    "    so.writing_datacube(geom, spectrom, run, cube)"
   ]
  },
  {
   "cell_type": "code",
   "execution_count": null,
   "metadata": {},
   "outputs": [],
   "source": []
  }
 ],
 "metadata": {
  "kernelspec": {
   "display_name": "Python 3",
   "language": "python",
   "name": "python3"
  },
  "language_info": {
   "codemirror_mode": {
    "name": "ipython",
    "version": 3
   },
   "file_extension": ".py",
   "mimetype": "text/x-python",
   "name": "python",
   "nbconvert_exporter": "python",
   "pygments_lexer": "ipython3",
   "version": "3.7.6"
  }
 },
 "nbformat": 4,
 "nbformat_minor": 4
}
